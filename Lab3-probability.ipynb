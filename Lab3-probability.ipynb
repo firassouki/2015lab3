{
 "cells": [
  {
   "cell_type": "markdown",
   "metadata": {
    "hide": true
   },
   "source": [
    "## Probability and Distributions"
   ]
  },
  {
   "cell_type": "code",
   "execution_count": 1,
   "metadata": {
    "hide": true
   },
   "outputs": [],
   "source": [
    "# The %... is an iPython thing, and is not part of the Python language.\n",
    "# In this case we're just telling the plotting library to draw things on\n",
    "# the notebook, instead of on a separate window.\n",
    "%matplotlib inline\n",
    "# See all the \"as ...\" contructs? They're just aliasing the package names.\n",
    "# That way we can call methods like plt.plot() instead of matplotlib.pyplot.plot().\n",
    "import numpy as np\n",
    "import scipy as sp\n",
    "import matplotlib as mpl\n",
    "import matplotlib.cm as cm\n",
    "import matplotlib.pyplot as plt\n",
    "import pandas as pd\n",
    "import time\n",
    "pd.set_option('display.width', 500)\n",
    "pd.set_option('display.max_columns', 100)\n",
    "pd.set_option('display.notebook_repr_html', True)\n",
    "import seaborn as sns\n",
    "sns.set_style(\"whitegrid\")\n",
    "sns.set_context(\"poster\")"
   ]
  },
  {
   "cell_type": "markdown",
   "metadata": {},
   "source": [
    "### What is probability?\n",
    "\n",
    "Suppose you were to flip a coin. Then you expect not to be able to say whether the next toss would yield a heads or a tails.  You might tell a friend that the odds of getting a heads is equal to to the odds of getting a tails, and that both are $1/2$.\n",
    "\n",
    "This intuitive notion of odds is a **probability**. \n",
    "\n",
    "Consider another example. If we were tossing a 'fair' six-sided dice, we may thus equivalently say that the odds of the dice falling on any one of its sides is $1/6$. Indeed if there are $C$ different equally likely possibilities, we'd expect that the probability of any one particular outcome would be $1/C$.\n",
    "\n",
    "The examples of the coin as well as the dice illustrate the notion of probability springing from **symmetry**. Here we think of probability of of the number 4 on the dice as the ratio:\n",
    "\n",
    "$$\\frac{Number\\: of\\: cases\\: for\\: number\\: 4}{number\\: of\\: possibilities} = \\frac{1}{6},$$\n",
    " assuming equally likely possibilities.\n",
    "\n",
    "\n",
    "\n",
    "#### Probability from a model\n",
    "\n",
    "But now think of an event like an election, say a presidential election. You cant exactly run multiple trials of the election: its a one-off event. But you still want to talk about the likelyhood of a candidate winning. However people do make **models** of elections, based on inputs such as race, age, income, sampling polls, etc. They assign likeyhoods of candidates winning and run large numbers of **simulations** of the election, making predictions based on that. Forecasters like Nate Silver, Sam Wang, And Drew Linzer, made incredibly successfull predictions of the 2012 elections.\n",
    "\n",
    "Or consider what a weather forecaster means when he or she says there is a 90% chance of rain today. Presumably, this conclusion has been made from many computer **simulations** which take in the weather conditions known in the past, and propagated using physics to the current day. The simulations give different results based on the uncertainty in the measurement of past weather, and the inability of the physics to capture the phenomenon exactly (all physics is some approximation to the natural world). But 90% of these simulations show rain.\n",
    "\n",
    "In all of these cases, there is either a model (a fair coin, an election forecasting model, a weather differential equation), or an experiment ( a large number of coin tosses) that is used to **estimate** a probability, or the odds, of an **event** $E$ occuring. \n"
   ]
  },
  {
   "cell_type": "markdown",
   "metadata": {},
   "source": [
    "### Testing a model\n",
    "\n",
    "We can test the model of a fair coin by having carried out a large number of coin flips. You would do, or imagine doing, a large number of flips or **trials** $N$, and finding the number of times you got heads $N_H$. Then the probability of getting heads would be \n",
    "$$\\frac{N_H}{N}.$$\n",
    "\n",
    "#### Probability as frequency\n",
    "\n",
    "But, if you didnt know about the fairness of the coin, you can think of another notion probability as a **relative frequency**: if there are multiple ways an **event** like the tossing of a coin can happen, lets look at multiple trials of the event and see the fraction of times one or other of these ways happened. "
   ]
  },
  {
   "cell_type": "markdown",
   "metadata": {},
   "source": [
    "#### Simulating the results of the model\n",
    "\n",
    "We dont have a coin right now. So let us **simulate** this process on a computer. To do this we will use a form of the **random number generator** built into `numpy`. In particular, we will use the function `np.random.choice`, which will with equal probability for all items pick an item from a list (thus if the list is of size 6, it will pick one of the six list items each time, with a probability 1/6). "
   ]
  },
  {
   "cell_type": "code",
   "execution_count": 2,
   "metadata": {},
   "outputs": [
    {
     "name": "stdout",
     "output_type": "stream",
     "text": [
      "Throws: T T H H T H T T T T H T H T T H H T T T T T H H H H H T T T H T T T H T H T T T\n",
      "Number of Heads: 15\n",
      "p1 = Number of Heads/Total Throws: 0.375\n"
     ]
    }
   ],
   "source": [
    "def throw_a_coin(N):\n",
    "    return np.random.choice(['H','T'], size=N)\n",
    "throws=throw_a_coin(40)\n",
    "print (\"Throws:\",\" \".join(throws))\n",
    "print (\"Number of Heads:\", np.sum(throws=='H'))\n",
    "print (\"p1 = Number of Heads/Total Throws:\", np.sum(throws=='H')/40)"
   ]
  },
  {
   "cell_type": "markdown",
   "metadata": {},
   "source": [
    "Notice that you do not necessarily get 20 heads.\n",
    "\n",
    "Now say that we run the entire process again, a second **replication** to obtain a second sample. Then we ask the same question: what is the fraction of heads we get this time? Lets call the odds of heads in sample 2, then, $p_2$:"
   ]
  },
  {
   "cell_type": "code",
   "execution_count": 3,
   "metadata": {},
   "outputs": [
    {
     "name": "stdout",
     "output_type": "stream",
     "text": [
      "Throws: T H H H H T H T T T T T T T H H H H T H H H H T H H T T T H T H T T H H H T T H\n",
      "Number of Heads: 21\n",
      "p2 = Number of Heads/Total Throws: 0.525\n"
     ]
    }
   ],
   "source": [
    "throws=throw_a_coin(40)\n",
    "print (\"Throws:\",\" \".join(throws))\n",
    "print (\"Number of Heads:\", np.sum(throws=='H'))\n",
    "print (\"p2 = Number of Heads/Total Throws:\", np.sum(throws=='H')/40)"
   ]
  },
  {
   "cell_type": "markdown",
   "metadata": {},
   "source": [
    "Let's do many more trials"
   ]
  },
  {
   "cell_type": "code",
   "execution_count": 4,
   "metadata": {},
   "outputs": [
    {
     "name": "stdout",
     "output_type": "stream",
     "text": [
      "First 1000 Throws: H T T T T H H T T T H H T T H T T H T H H T H T H T T T H T T H H H H H T T H T H T H T T T H T H T T T T H T H T H H H H T T T T T T H H T H T H T T T H T H H H H H H T H T H T H T T T H T H H H H T T H T T H T T H T H T H H H T T T H T H H T T H H T H T H H T T T T H H T H T H H T T T T H H T T T T H H H T T H T H H T T T T H T T H T T H T T T T T T T H H H T T H H H T H H H T T H T T T H T T T H H T T T H T T H T T T H T H H T H T H H H T H T H T T H T H H T T T H T H T H T H H T H H H T T H T T T T T H T H H T H H T T H T T T H H T T T T T T T T H H T H H T T T H H T T H T H H T T H H H H H H T H H H T T H H T H T H H T H H H T H T H H T T H T H T T T H T T T H H T H T T T H T H T H T H H H T T T H T T H T H H H H H T T T H H T T T H H T T T T T T T H H T H H H H H T T H T H T T H T H T H T H H H T T T T T T T T T T H H H H H H T T T T T H H T T T H H T T H T T T T H H T T H H H H T T H H H H T H H H T T H T T T T H T T T T T H T T T H T H H H T H T H T T T H T H H T T H H H T H H \n",
      "Number of Heads: 5002\n",
      "p for 10,000 = Number of Heads/Total Throws: 0.5002\n"
     ]
    }
   ],
   "source": [
    "throws=throw_a_coin(10000)\n",
    "print (\"First 1000 Throws:\",\" \".join(throws)[:1000])\n",
    "print (\"Number of Heads:\", np.sum(throws=='H'))\n",
    "print (\"p for 10,000 = Number of Heads/Total Throws:\", np.sum(throws=='H')/10000)"
   ]
  },
  {
   "cell_type": "markdown",
   "metadata": {},
   "source": [
    "The larger number of trials we do, the closer we seem to get to half the tosses showing up heads. Lets see this more systematically:"
   ]
  },
  {
   "cell_type": "code",
   "execution_count": 5,
   "metadata": {},
   "outputs": [
    {
     "data": {
      "image/png": "[encoded data removed]",
      "text/plain": [
       "<Figure size 432x288 with 1 Axes>"
      ]
     },
     "metadata": {},
     "output_type": "display_data"
    }
   ],
   "source": [
    "trials=[10, 20, 50, 70, 100, 200, 500, 800, 1000, 2000, 5000, 7000, 10000]\n",
    "plt.plot(trials, [np.sum(throw_a_coin(j)=='H')/np.float(j) for j in trials], 'o-', alpha=0.6);\n",
    "plt.xscale(\"log\")\n",
    "plt.axhline(0.5, 0, 1, color='r');\n",
    "plt.xlabel('number of trials');\n",
    "plt.ylabel('probability of heads from simulation');\n",
    "plt.title('frequentist probability of heads');"
   ]
  },
  {
   "cell_type": "markdown",
   "metadata": {},
   "source": [
    "Thus, the true odds **fluctuate** about their long-run value of 0.5, in accordance with the model of a fair coin (which we encoded in our simulation by having `np.random.choice` choose between two possibilities with equal probability), with the fluctuations becoming much smaller as the number of trials increases. These **fluctations** are what give rise to probability distributions.\n",
    "\n",
    "Each finite length run is called a **sample**, which has been obtained from the **generative** model of our fair coin. Its called generative as we can use the model to generate, using simulation, a set of samples we can play with to understand a model. "
   ]
  },
  {
   "cell_type": "markdown",
   "metadata": {},
   "source": [
    "### A simple Election Model\n",
    "\n",
    "In the last section, we made a simple simulation of a coin-toss on the computer from a fair-coin model which associated equal probability with heads and tails. Let us consider another model here, a table of probabilities that [PredictWise](http://www.predictwise.com/results/2012/president) made on October 2, 2012 for the US presidential elections. \n",
    "PredictWise aggregated polling data and, for each state, estimated the probability that the Obama or Romney would win. Here are those estimated probabilities:"
   ]
  },
  {
   "cell_type": "code",
   "execution_count": 36,
   "metadata": {},
   "outputs": [
    {
     "data": {
      "text/html": [
       "<div>\n",
       "<style scoped>\n",
       "    .dataframe tbody tr th:only-of-type {\n",
       "        vertical-align: middle;\n",
       "    }\n",
       "\n",
       "    .dataframe tbody tr th {\n",
       "        vertical-align: top;\n",
       "    }\n",
       "\n",
       "    .dataframe thead th {\n",
       "        text-align: right;\n",
       "    }\n",
       "</style>\n",
       "<table border=\"1\" class=\"dataframe\">\n",
       "  <thead>\n",
       "    <tr style=\"text-align: right;\">\n",
       "      <th></th>\n",
       "      <th>Obama</th>\n",
       "      <th>Romney</th>\n",
       "      <th>Votes</th>\n",
       "    </tr>\n",
       "    <tr>\n",
       "      <th>States</th>\n",
       "      <th></th>\n",
       "      <th></th>\n",
       "      <th></th>\n",
       "    </tr>\n",
       "  </thead>\n",
       "  <tbody>\n",
       "    <tr>\n",
       "      <th>Alabama</th>\n",
       "      <td>0.000</td>\n",
       "      <td>1.000</td>\n",
       "      <td>9</td>\n",
       "    </tr>\n",
       "    <tr>\n",
       "      <th>Alaska</th>\n",
       "      <td>0.000</td>\n",
       "      <td>1.000</td>\n",
       "      <td>3</td>\n",
       "    </tr>\n",
       "    <tr>\n",
       "      <th>Arizona</th>\n",
       "      <td>0.062</td>\n",
       "      <td>0.938</td>\n",
       "      <td>11</td>\n",
       "    </tr>\n",
       "    <tr>\n",
       "      <th>Arkansas</th>\n",
       "      <td>0.000</td>\n",
       "      <td>1.000</td>\n",
       "      <td>6</td>\n",
       "    </tr>\n",
       "    <tr>\n",
       "      <th>California</th>\n",
       "      <td>1.000</td>\n",
       "      <td>0.000</td>\n",
       "      <td>55</td>\n",
       "    </tr>\n",
       "    <tr>\n",
       "      <th>Colorado</th>\n",
       "      <td>0.807</td>\n",
       "      <td>0.193</td>\n",
       "      <td>9</td>\n",
       "    </tr>\n",
       "    <tr>\n",
       "      <th>Connecticut</th>\n",
       "      <td>1.000</td>\n",
       "      <td>0.000</td>\n",
       "      <td>7</td>\n",
       "    </tr>\n",
       "    <tr>\n",
       "      <th>Delaware</th>\n",
       "      <td>1.000</td>\n",
       "      <td>0.000</td>\n",
       "      <td>3</td>\n",
       "    </tr>\n",
       "    <tr>\n",
       "      <th>District of Columbia</th>\n",
       "      <td>1.000</td>\n",
       "      <td>0.000</td>\n",
       "      <td>3</td>\n",
       "    </tr>\n",
       "    <tr>\n",
       "      <th>Florida</th>\n",
       "      <td>0.720</td>\n",
       "      <td>0.280</td>\n",
       "      <td>29</td>\n",
       "    </tr>\n",
       "    <tr>\n",
       "      <th>Georgia</th>\n",
       "      <td>0.004</td>\n",
       "      <td>0.996</td>\n",
       "      <td>16</td>\n",
       "    </tr>\n",
       "    <tr>\n",
       "      <th>Hawaii</th>\n",
       "      <td>1.000</td>\n",
       "      <td>0.000</td>\n",
       "      <td>4</td>\n",
       "    </tr>\n",
       "    <tr>\n",
       "      <th>Idaho</th>\n",
       "      <td>0.000</td>\n",
       "      <td>1.000</td>\n",
       "      <td>4</td>\n",
       "    </tr>\n",
       "    <tr>\n",
       "      <th>Illinois</th>\n",
       "      <td>1.000</td>\n",
       "      <td>0.000</td>\n",
       "      <td>20</td>\n",
       "    </tr>\n",
       "    <tr>\n",
       "      <th>Indiana</th>\n",
       "      <td>0.036</td>\n",
       "      <td>0.964</td>\n",
       "      <td>11</td>\n",
       "    </tr>\n",
       "    <tr>\n",
       "      <th>Iowa</th>\n",
       "      <td>0.837</td>\n",
       "      <td>0.163</td>\n",
       "      <td>6</td>\n",
       "    </tr>\n",
       "    <tr>\n",
       "      <th>Kansas</th>\n",
       "      <td>0.000</td>\n",
       "      <td>1.000</td>\n",
       "      <td>6</td>\n",
       "    </tr>\n",
       "    <tr>\n",
       "      <th>Kentucky</th>\n",
       "      <td>0.000</td>\n",
       "      <td>1.000</td>\n",
       "      <td>8</td>\n",
       "    </tr>\n",
       "    <tr>\n",
       "      <th>Louisiana</th>\n",
       "      <td>0.000</td>\n",
       "      <td>1.000</td>\n",
       "      <td>8</td>\n",
       "    </tr>\n",
       "    <tr>\n",
       "      <th>Maine</th>\n",
       "      <td>1.000</td>\n",
       "      <td>0.000</td>\n",
       "      <td>4</td>\n",
       "    </tr>\n",
       "    <tr>\n",
       "      <th>Maryland</th>\n",
       "      <td>1.000</td>\n",
       "      <td>0.000</td>\n",
       "      <td>10</td>\n",
       "    </tr>\n",
       "    <tr>\n",
       "      <th>Massachusetts</th>\n",
       "      <td>1.000</td>\n",
       "      <td>0.000</td>\n",
       "      <td>11</td>\n",
       "    </tr>\n",
       "    <tr>\n",
       "      <th>Michigan</th>\n",
       "      <td>0.987</td>\n",
       "      <td>0.013</td>\n",
       "      <td>16</td>\n",
       "    </tr>\n",
       "    <tr>\n",
       "      <th>Minnesota</th>\n",
       "      <td>0.982</td>\n",
       "      <td>0.018</td>\n",
       "      <td>10</td>\n",
       "    </tr>\n",
       "    <tr>\n",
       "      <th>Mississippi</th>\n",
       "      <td>0.000</td>\n",
       "      <td>1.000</td>\n",
       "      <td>6</td>\n",
       "    </tr>\n",
       "    <tr>\n",
       "      <th>Missouri</th>\n",
       "      <td>0.074</td>\n",
       "      <td>0.926</td>\n",
       "      <td>10</td>\n",
       "    </tr>\n",
       "    <tr>\n",
       "      <th>Montana</th>\n",
       "      <td>0.046</td>\n",
       "      <td>0.954</td>\n",
       "      <td>3</td>\n",
       "    </tr>\n",
       "    <tr>\n",
       "      <th>Nebraska</th>\n",
       "      <td>0.000</td>\n",
       "      <td>1.000</td>\n",
       "      <td>5</td>\n",
       "    </tr>\n",
       "    <tr>\n",
       "      <th>Nevada</th>\n",
       "      <td>0.851</td>\n",
       "      <td>0.149</td>\n",
       "      <td>6</td>\n",
       "    </tr>\n",
       "    <tr>\n",
       "      <th>New Hampshire</th>\n",
       "      <td>0.857</td>\n",
       "      <td>0.143</td>\n",
       "      <td>4</td>\n",
       "    </tr>\n",
       "    <tr>\n",
       "      <th>New Jersey</th>\n",
       "      <td>0.998</td>\n",
       "      <td>0.002</td>\n",
       "      <td>14</td>\n",
       "    </tr>\n",
       "    <tr>\n",
       "      <th>New Mexico</th>\n",
       "      <td>0.985</td>\n",
       "      <td>0.015</td>\n",
       "      <td>5</td>\n",
       "    </tr>\n",
       "    <tr>\n",
       "      <th>New York</th>\n",
       "      <td>1.000</td>\n",
       "      <td>0.000</td>\n",
       "      <td>29</td>\n",
       "    </tr>\n",
       "    <tr>\n",
       "      <th>North Carolina</th>\n",
       "      <td>0.349</td>\n",
       "      <td>0.651</td>\n",
       "      <td>15</td>\n",
       "    </tr>\n",
       "    <tr>\n",
       "      <th>North Dakota</th>\n",
       "      <td>0.025</td>\n",
       "      <td>0.975</td>\n",
       "      <td>3</td>\n",
       "    </tr>\n",
       "    <tr>\n",
       "      <th>Ohio</th>\n",
       "      <td>0.890</td>\n",
       "      <td>0.110</td>\n",
       "      <td>18</td>\n",
       "    </tr>\n",
       "    <tr>\n",
       "      <th>Oklahoma</th>\n",
       "      <td>0.000</td>\n",
       "      <td>1.000</td>\n",
       "      <td>7</td>\n",
       "    </tr>\n",
       "    <tr>\n",
       "      <th>Oregon</th>\n",
       "      <td>0.976</td>\n",
       "      <td>0.024</td>\n",
       "      <td>7</td>\n",
       "    </tr>\n",
       "    <tr>\n",
       "      <th>Pennsylvania</th>\n",
       "      <td>0.978</td>\n",
       "      <td>0.022</td>\n",
       "      <td>20</td>\n",
       "    </tr>\n",
       "    <tr>\n",
       "      <th>Rhode Island</th>\n",
       "      <td>1.000</td>\n",
       "      <td>0.000</td>\n",
       "      <td>4</td>\n",
       "    </tr>\n",
       "    <tr>\n",
       "      <th>South Carolina</th>\n",
       "      <td>0.000</td>\n",
       "      <td>1.000</td>\n",
       "      <td>9</td>\n",
       "    </tr>\n",
       "    <tr>\n",
       "      <th>South Dakota</th>\n",
       "      <td>0.001</td>\n",
       "      <td>0.999</td>\n",
       "      <td>3</td>\n",
       "    </tr>\n",
       "    <tr>\n",
       "      <th>Tennessee</th>\n",
       "      <td>0.001</td>\n",
       "      <td>0.999</td>\n",
       "      <td>11</td>\n",
       "    </tr>\n",
       "    <tr>\n",
       "      <th>Texas</th>\n",
       "      <td>0.000</td>\n",
       "      <td>1.000</td>\n",
       "      <td>38</td>\n",
       "    </tr>\n",
       "    <tr>\n",
       "      <th>Utah</th>\n",
       "      <td>0.000</td>\n",
       "      <td>1.000</td>\n",
       "      <td>6</td>\n",
       "    </tr>\n",
       "    <tr>\n",
       "      <th>Vermont</th>\n",
       "      <td>1.000</td>\n",
       "      <td>0.000</td>\n",
       "      <td>3</td>\n",
       "    </tr>\n",
       "    <tr>\n",
       "      <th>Virginia</th>\n",
       "      <td>0.798</td>\n",
       "      <td>0.202</td>\n",
       "      <td>13</td>\n",
       "    </tr>\n",
       "    <tr>\n",
       "      <th>Washington</th>\n",
       "      <td>0.999</td>\n",
       "      <td>0.001</td>\n",
       "      <td>12</td>\n",
       "    </tr>\n",
       "    <tr>\n",
       "      <th>West Virginia</th>\n",
       "      <td>0.002</td>\n",
       "      <td>0.998</td>\n",
       "      <td>5</td>\n",
       "    </tr>\n",
       "    <tr>\n",
       "      <th>Wisconsin</th>\n",
       "      <td>0.925</td>\n",
       "      <td>0.075</td>\n",
       "      <td>10</td>\n",
       "    </tr>\n",
       "    <tr>\n",
       "      <th>Wyoming</th>\n",
       "      <td>0.000</td>\n",
       "      <td>1.000</td>\n",
       "      <td>3</td>\n",
       "    </tr>\n",
       "  </tbody>\n",
       "</table>\n",
       "</div>"
      ],
      "text/plain": [
       "                      Obama  Romney  Votes\n",
       "States                                    \n",
       "Alabama               0.000   1.000      9\n",
       "Alaska                0.000   1.000      3\n",
       "Arizona               0.062   0.938     11\n",
       "Arkansas              0.000   1.000      6\n",
       "California            1.000   0.000     55\n",
       "Colorado              0.807   0.193      9\n",
       "Connecticut           1.000   0.000      7\n",
       "Delaware              1.000   0.000      3\n",
       "District of Columbia  1.000   0.000      3\n",
       "Florida               0.720   0.280     29\n",
       "Georgia               0.004   0.996     16\n",
       "Hawaii                1.000   0.000      4\n",
       "Idaho                 0.000   1.000      4\n",
       "Illinois              1.000   0.000     20\n",
       "Indiana               0.036   0.964     11\n",
       "Iowa                  0.837   0.163      6\n",
       "Kansas                0.000   1.000      6\n",
       "Kentucky              0.000   1.000      8\n",
       "Louisiana             0.000   1.000      8\n",
       "Maine                 1.000   0.000      4\n",
       "Maryland              1.000   0.000     10\n",
       "Massachusetts         1.000   0.000     11\n",
       "Michigan              0.987   0.013     16\n",
       "Minnesota             0.982   0.018     10\n",
       "Mississippi           0.000   1.000      6\n",
       "Missouri              0.074   0.926     10\n",
       "Montana               0.046   0.954      3\n",
       "Nebraska              0.000   1.000      5\n",
       "Nevada                0.851   0.149      6\n",
       "New Hampshire         0.857   0.143      4\n",
       "New Jersey            0.998   0.002     14\n",
       "New Mexico            0.985   0.015      5\n",
       "New York              1.000   0.000     29\n",
       "North Carolina        0.349   0.651     15\n",
       "North Dakota          0.025   0.975      3\n",
       "Ohio                  0.890   0.110     18\n",
       "Oklahoma              0.000   1.000      7\n",
       "Oregon                0.976   0.024      7\n",
       "Pennsylvania          0.978   0.022     20\n",
       "Rhode Island          1.000   0.000      4\n",
       "South Carolina        0.000   1.000      9\n",
       "South Dakota          0.001   0.999      3\n",
       "Tennessee             0.001   0.999     11\n",
       "Texas                 0.000   1.000     38\n",
       "Utah                  0.000   1.000      6\n",
       "Vermont               1.000   0.000      3\n",
       "Virginia              0.798   0.202     13\n",
       "Washington            0.999   0.001     12\n",
       "West Virginia         0.002   0.998      5\n",
       "Wisconsin             0.925   0.075     10\n",
       "Wyoming               0.000   1.000      3"
      ]
     },
     "execution_count": 36,
     "metadata": {},
     "output_type": "execute_result"
    }
   ],
   "source": [
    "predictwise = pd.read_csv('predictwise.csv').set_index('States')\n",
    "#predictwise.head()\n",
    "predictwise"
   ]
  },
  {
   "cell_type": "markdown",
   "metadata": {},
   "source": [
    "Each row is the probability predicted by Predictwise that Romney or Obama would win a state. The votes column lists the number of electoral college votes in that state. \n",
    "\n",
    "Remember that simulation is used in different ways in the modelling process. Simulations might be used to propagate differential equations which describe the weather from different initial conditions. In this case they are used to create the model. In the coin flips case, they are used to illustrate the predictions of the model of a fair coin. This example is in the same spirit: we are given a (somehow obtained) list of win probabilities for the states of the US. "
   ]
  },
  {
   "cell_type": "markdown",
   "metadata": {},
   "source": [
    "In the case of the tossed coins, even though we had a model which said that the probability of heads was 0.5, there were sequences of flips in which more or less than half the flips were heads. Similarly, here, if the probability of Romney winning in Arizona is 0.938, it means that if somehow, there were 10000 replications with an election each, Romney would win in 938 of those Arizonas **on the average** across the replications. And there would be some samples with Romney winning more, and some with less. We can run these **simulated** universes on a computer though not in real life.\n",
    "\n",
    "#### Simulating the model\n",
    "\n",
    "To do this, \n",
    "we will assume that the outcome in each state is the result of an independent coin flip whose probability of coming up Obama is given by the Predictwise state-wise win probabilities. Lets write a function `simulate_election` that uses this **predictive model** to simulate the outcome of the election given a table of probabilities.\n",
    "\n",
    "In the code below, each column simulates a single outcome from the 50 states + DC by choosing a random number between 0 and 1. Obama wins that simulation if the random number is $<$ the win probability. If he wins that simulation, we add in the electoral votes for that state, otherwise we dont. We do this `n_sim` times and return a list of total Obama electoral votes in each simulation."
   ]
  },
  {
   "cell_type": "code",
   "execution_count": 10,
   "metadata": {},
   "outputs": [],
   "source": [
    "def simulate_election(model, n_sim):\n",
    "    simulations = np.random.uniform(size=(51, n_sim))\n",
    "    obama_votes = (simulations < model.Obama.values.reshape(-1, 1)) * model.Votes.values.reshape(-1, 1)\n",
    "    #summing over rows gives the total electoral votes for each simulation\n",
    "    return obama_votes.sum(axis=0)"
   ]
  },
  {
   "cell_type": "markdown",
   "metadata": {},
   "source": [
    "The following code takes the necessary probabilities for the Predictwise data, and runs 10000 simulations. If you think of this in terms of our coins, think of it as having 51 biased coins, one for each state, and tossing them 10,000 times each.\n",
    "\n",
    "We use the results to compute the number of simulations, according to this predictive model, that Obama wins the election (i.e., the probability that he receives 269 or more electoral college votes)"
   ]
  },
  {
   "cell_type": "code",
   "execution_count": 39,
   "metadata": {},
   "outputs": [
    {
     "data": {
      "text/plain": [
       "269.0"
      ]
     },
     "execution_count": 39,
     "metadata": {},
     "output_type": "execute_result"
    }
   ],
   "source": [
    "predictwise['Votes'].sum()/2"
   ]
  },
  {
   "cell_type": "code",
   "execution_count": 42,
   "metadata": {},
   "outputs": [
    {
     "data": {
      "text/plain": [
       "array([[0.   ],\n",
       "       [0.   ],\n",
       "       [0.062],\n",
       "       [0.   ],\n",
       "       [1.   ],\n",
       "       [0.807],\n",
       "       [1.   ],\n",
       "       [1.   ],\n",
       "       [1.   ],\n",
       "       [0.72 ],\n",
       "       [0.004],\n",
       "       [1.   ],\n",
       "       [0.   ],\n",
       "       [1.   ],\n",
       "       [0.036],\n",
       "       [0.837],\n",
       "       [0.   ],\n",
       "       [0.   ],\n",
       "       [0.   ],\n",
       "       [1.   ],\n",
       "       [1.   ],\n",
       "       [1.   ],\n",
       "       [0.987],\n",
       "       [0.982],\n",
       "       [0.   ],\n",
       "       [0.074],\n",
       "       [0.046],\n",
       "       [0.   ],\n",
       "       [0.851],\n",
       "       [0.857],\n",
       "       [0.998],\n",
       "       [0.985],\n",
       "       [1.   ],\n",
       "       [0.349],\n",
       "       [0.025],\n",
       "       [0.89 ],\n",
       "       [0.   ],\n",
       "       [0.976],\n",
       "       [0.978],\n",
       "       [1.   ],\n",
       "       [0.   ],\n",
       "       [0.001],\n",
       "       [0.001],\n",
       "       [0.   ],\n",
       "       [0.   ],\n",
       "       [1.   ],\n",
       "       [0.798],\n",
       "       [0.999],\n",
       "       [0.002],\n",
       "       [0.925],\n",
       "       [0.   ]])"
      ]
     },
     "execution_count": 42,
     "metadata": {},
     "output_type": "execute_result"
    }
   ],
   "source": [
    "predictwise.Obama.values.reshape(-1, 1)"
   ]
  },
  {
   "cell_type": "code",
   "execution_count": 50,
   "metadata": {},
   "outputs": [
    {
     "name": "stdout",
     "output_type": "stream",
     "text": [
      "[[False False]\n",
      " [False False]\n",
      " [False False]\n",
      " [False False]\n",
      " [ True  True]\n",
      " [ True  True]\n",
      " [ True  True]\n",
      " [ True  True]\n",
      " [ True  True]\n",
      " [ True False]\n",
      " [False False]\n",
      " [ True  True]\n",
      " [False False]\n",
      " [ True  True]\n",
      " [False False]\n",
      " [ True  True]\n",
      " [False False]\n",
      " [False False]\n",
      " [False False]\n",
      " [ True  True]\n",
      " [ True  True]\n",
      " [ True  True]\n",
      " [ True  True]\n",
      " [ True  True]\n",
      " [False False]\n",
      " [False False]\n",
      " [False False]\n",
      " [False False]\n",
      " [False  True]\n",
      " [ True  True]\n",
      " [ True  True]\n",
      " [ True  True]\n",
      " [ True  True]\n",
      " [ True False]\n",
      " [False False]\n",
      " [ True  True]\n",
      " [False False]\n",
      " [ True  True]\n",
      " [ True  True]\n",
      " [ True  True]\n",
      " [False False]\n",
      " [False False]\n",
      " [False False]\n",
      " [False False]\n",
      " [False False]\n",
      " [ True  True]\n",
      " [ True False]\n",
      " [ True  True]\n",
      " [False False]\n",
      " [ True  True]\n",
      " [False False]]\n",
      "[341 290]\n"
     ]
    },
    {
     "data": {
      "text/plain": [
       "array([[ 0,  0],\n",
       "       [ 0,  0],\n",
       "       [ 0,  0],\n",
       "       [ 0,  0],\n",
       "       [55, 55],\n",
       "       [ 9,  9],\n",
       "       [ 7,  7],\n",
       "       [ 3,  3],\n",
       "       [ 3,  3],\n",
       "       [29,  0],\n",
       "       [ 0,  0],\n",
       "       [ 4,  4],\n",
       "       [ 0,  0],\n",
       "       [20, 20],\n",
       "       [ 0,  0],\n",
       "       [ 6,  6],\n",
       "       [ 0,  0],\n",
       "       [ 0,  0],\n",
       "       [ 0,  0],\n",
       "       [ 4,  4],\n",
       "       [10, 10],\n",
       "       [11, 11],\n",
       "       [16, 16],\n",
       "       [10, 10],\n",
       "       [ 0,  0],\n",
       "       [ 0,  0],\n",
       "       [ 0,  0],\n",
       "       [ 0,  0],\n",
       "       [ 0,  6],\n",
       "       [ 4,  4],\n",
       "       [14, 14],\n",
       "       [ 5,  5],\n",
       "       [29, 29],\n",
       "       [15,  0],\n",
       "       [ 0,  0],\n",
       "       [18, 18],\n",
       "       [ 0,  0],\n",
       "       [ 7,  7],\n",
       "       [20, 20],\n",
       "       [ 4,  4],\n",
       "       [ 0,  0],\n",
       "       [ 0,  0],\n",
       "       [ 0,  0],\n",
       "       [ 0,  0],\n",
       "       [ 0,  0],\n",
       "       [ 3,  3],\n",
       "       [13,  0],\n",
       "       [12, 12],\n",
       "       [ 0,  0],\n",
       "       [10, 10],\n",
       "       [ 0,  0]], dtype=int64)"
      ]
     },
     "execution_count": 50,
     "metadata": {},
     "output_type": "execute_result"
    }
   ],
   "source": [
    "simulations = np.random.uniform(size=(51, 2))\n",
    "print (simulations < predictwise.Obama.values.reshape(-1, 1))\n",
    "obama_votes = (simulations < predictwise.Obama.values.reshape(-1, 1)) * predictwise.Votes.values.reshape(-1, 1)\n",
    "print(obama_votes.sum(axis=0))\n",
    "obama_votes"
   ]
  },
  {
   "cell_type": "code",
   "execution_count": 44,
   "metadata": {},
   "outputs": [
    {
     "data": {
      "text/plain": [
       "array([[0.1155522 , 0.85473508],\n",
       "       [0.07083306, 0.07565571],\n",
       "       [0.28804405, 0.73426331],\n",
       "       [0.26406209, 0.1077885 ],\n",
       "       [0.74175792, 0.49851376],\n",
       "       [0.97476017, 0.41356457],\n",
       "       [0.09678027, 0.94724387],\n",
       "       [0.49875501, 0.2325673 ],\n",
       "       [0.9047112 , 0.77806722],\n",
       "       [0.84376863, 0.50576827],\n",
       "       [0.92871121, 0.46851024],\n",
       "       [0.904156  , 0.39847168],\n",
       "       [0.21327413, 0.15356818],\n",
       "       [0.71177209, 0.59682418],\n",
       "       [0.44834408, 0.42884034],\n",
       "       [0.85656796, 0.8816979 ],\n",
       "       [0.94892128, 0.40585134],\n",
       "       [0.50776797, 0.5874008 ],\n",
       "       [0.67159332, 0.55895501],\n",
       "       [0.55182142, 0.65262572],\n",
       "       [0.34666705, 0.71924514],\n",
       "       [0.89836999, 0.78937717],\n",
       "       [0.43547952, 0.77105398],\n",
       "       [0.46403793, 0.52551867],\n",
       "       [0.7252479 , 0.74545441],\n",
       "       [0.2403114 , 0.80732407],\n",
       "       [0.8524897 , 0.0662262 ],\n",
       "       [0.20602386, 0.1382283 ],\n",
       "       [0.18030112, 0.68716102],\n",
       "       [0.51483426, 0.90196517],\n",
       "       [0.16704458, 0.30591893],\n",
       "       [0.20925774, 0.99480576],\n",
       "       [0.54803368, 0.54368659],\n",
       "       [0.30819166, 0.16760265],\n",
       "       [0.34618242, 0.83225375],\n",
       "       [0.46625378, 0.22266571],\n",
       "       [0.51473786, 0.05161478],\n",
       "       [0.67912614, 0.06179223],\n",
       "       [0.93886793, 0.41647896],\n",
       "       [0.56031046, 0.28580775],\n",
       "       [0.64581008, 0.16799571],\n",
       "       [0.86608691, 0.92989887],\n",
       "       [0.6710362 , 0.83548487],\n",
       "       [0.58537602, 0.56175803],\n",
       "       [0.17758146, 0.69526614],\n",
       "       [0.40816075, 0.67382012],\n",
       "       [0.232813  , 0.78765751],\n",
       "       [0.35926565, 0.18145959],\n",
       "       [0.7044508 , 0.94701638],\n",
       "       [0.64041631, 0.01764641],\n",
       "       [0.37401274, 0.42346393]])"
      ]
     },
     "execution_count": 44,
     "metadata": {},
     "output_type": "execute_result"
    }
   ],
   "source": [
    "np.random.uniform(size=(51, 2))"
   ]
  },
  {
   "cell_type": "code",
   "execution_count": 31,
   "metadata": {},
   "outputs": [
    {
     "name": "stdout",
     "output_type": "stream",
     "text": [
      "9951\n"
     ]
    }
   ],
   "source": [
    "result = simulate_election(predictwise, 10000)\n",
    "#result [result < 269]\n",
    "print ((result >= 269).sum())"
   ]
  },
  {
   "cell_type": "code",
   "execution_count": 53,
   "metadata": {},
   "outputs": [
    {
     "data": {
      "text/plain": [
       "array([357, 351, 323, ..., 297, 303, 322], dtype=int64)"
      ]
     },
     "execution_count": 53,
     "metadata": {},
     "output_type": "execute_result"
    }
   ],
   "source": [
    "result"
   ]
  },
  {
   "cell_type": "markdown",
   "metadata": {},
   "source": [
    "There are roughly only 50 simulations in which Romney wins the election!\n",
    "\n",
    "#### Displaying the prediction\n",
    "\n",
    "Now, lets visualize the simulation. We will build a histogram from the result of `simulate_election`. We will **normalize** the histogram by dividing the frequency of a vote tally by the number of simulations. We'll overplot the \"victory threshold\" of 269 votes as a vertical black line and the result (Obama winning 332 votes) as a vertical red line.\n",
    "\n",
    "We also compute the number of votes at the 5th and 95th quantiles, which we call the spread, and display it (this is an estimate of the outcome's uncertainty). By 5th quantile we mean that if we ordered the number of votes Obama gets in each simulation in increasing order, the 5th quantile is the number below which 5\\% of the simulations lie. \n",
    "\n",
    "We also display the probability of an Obama victory    \n",
    "    "
   ]
  },
  {
   "cell_type": "code",
   "execution_count": 61,
   "metadata": {},
   "outputs": [
    {
     "data": {
      "text/plain": [
       "array([200, 201, 202, 203, 204, 205, 206, 207, 208, 209, 210, 211, 212,\n",
       "       213, 214, 215, 216, 217, 218, 219, 220, 221, 222, 223, 224, 225,\n",
       "       226, 227, 228, 229, 230, 231, 232, 233, 234, 235, 236, 237, 238,\n",
       "       239, 240, 241, 242, 243, 244, 245, 246, 247, 248, 249, 250, 251,\n",
       "       252, 253, 254, 255, 256, 257, 258, 259, 260, 261, 262, 263, 264,\n",
       "       265, 266, 267, 268, 269, 270, 271, 272, 273, 274, 275, 276, 277,\n",
       "       278, 279, 280, 281, 282, 283, 284, 285, 286, 287, 288, 289, 290,\n",
       "       291, 292, 293, 294, 295, 296, 297, 298, 299, 300, 301, 302, 303,\n",
       "       304, 305, 306, 307, 308, 309, 310, 311, 312, 313, 314, 315, 316,\n",
       "       317, 318, 319, 320, 321, 322, 323, 324, 325, 326, 327, 328, 329,\n",
       "       330, 331, 332, 333, 334, 335, 336, 337, 338, 339, 340, 341, 342,\n",
       "       343, 344, 345, 346, 347, 348, 349, 350, 351, 352, 353, 354, 355,\n",
       "       356, 357, 358, 359, 360, 361, 362, 363, 364, 365, 366, 367, 368,\n",
       "       369, 370, 371, 372, 373, 374, 375, 376, 377, 378, 379, 380, 381,\n",
       "       382, 383, 384, 385, 386, 387, 388, 389, 390, 391, 392, 393, 394,\n",
       "       395, 396, 397, 398, 399, 400, 401, 402, 403, 404, 405, 406, 407,\n",
       "       408, 409, 410, 411, 412, 413, 414, 415, 416, 417, 418, 419, 420,\n",
       "       421, 422, 423, 424, 425, 426, 427, 428, 429, 430, 431, 432, 433,\n",
       "       434, 435, 436, 437, 438, 439, 440, 441, 442, 443, 444, 445, 446,\n",
       "       447, 448, 449, 450, 451, 452, 453, 454, 455, 456, 457, 458, 459,\n",
       "       460, 461, 462, 463, 464, 465, 466, 467, 468, 469, 470, 471, 472,\n",
       "       473, 474, 475, 476, 477, 478, 479, 480, 481, 482, 483, 484, 485,\n",
       "       486, 487, 488, 489, 490, 491, 492, 493, 494, 495, 496, 497, 498,\n",
       "       499, 500, 501, 502, 503, 504, 505, 506, 507, 508, 509, 510, 511,\n",
       "       512, 513, 514, 515, 516, 517, 518, 519, 520, 521, 522, 523, 524,\n",
       "       525, 526, 527, 528, 529, 530, 531, 532, 533, 534, 535, 536, 537])"
      ]
     },
     "execution_count": 61,
     "metadata": {},
     "output_type": "execute_result"
    }
   ],
   "source": [
    "np.arange(200, 538, 1)"
   ]
  },
  {
   "cell_type": "code",
   "execution_count": 75,
   "metadata": {},
   "outputs": [],
   "source": [
    "def plot_simulation(simulation):    \n",
    "    #plt.hist(simulation, bins=np.arange(200, 538, 1), \n",
    "    #         label='simulations', align='left', normed=True)\n",
    "    #plt.hist(simulation, bins=np.arange(200, 538, 1), \n",
    "    #         label='simulations', align='left', density=True)\n",
    "    plt.hist(simulation, bins=np.arange(200, 538, 5), label='simulations', align='left', density=True)\n",
    "    plt.axvline(332, 0, .5, color='r', label='Actual Outcome')\n",
    "    plt.axvline(269, 0, .5, color='k', label='Victory Threshold')\n",
    "    p05 = np.percentile(simulation, 5.)\n",
    "    p95 = np.percentile(simulation, 95.)\n",
    "    iq = int(p95 - p05)\n",
    "    pwin = ((simulation >= 269).mean() * 100)\n",
    "    plt.title(\"Chance of Obama Victory: %0.2f%%, Spread: %d votes\" % (pwin, iq))\n",
    "    plt.legend(frameon=False, loc='upper left')\n",
    "    plt.xlabel(\"Obama Electoral College Votes\")\n",
    "    plt.ylabel(\"Probability\")\n",
    "    sns.despine()"
   ]
  },
  {
   "cell_type": "code",
   "execution_count": 76,
   "metadata": {},
   "outputs": [
    {
     "data": {
      "image/png": "[encoded data removed]",
      "text/plain": [
       "<Figure size 432x288 with 1 Axes>"
      ]
     },
     "metadata": {},
     "output_type": "display_data"
    }
   ],
   "source": [
    "plot_simulation(result)"
   ]
  },
  {
   "cell_type": "markdown",
   "metadata": {},
   "source": [
    "The model created by combining the probabilities we obtained from Predictwise with the simulation of a biased coin flip corresponding to the win probability in each states leads us to obtain a histogram of election outcomes. We are plotting the probabilities of a prediction, so we call this distribution over outcomes the **predictive distribution**. Simulating from our model and plotting a histogram allows us to visualize this predictive distribution. In general, such a set of probabilities is called a **probability distribution** or **probability mass function**. "
   ]
  },
  {
   "cell_type": "markdown",
   "metadata": {},
   "source": [
    "### Random Variables\n",
    "\n",
    "From wikipedia: In probability theory, the **sample space** of an experiment or random trial is the set of all possible outcomes or results of that experiment. For one coin toss, [H,T] make up the sample space.\n",
    "\n",
    "A **random variable** is a mapping from a sample space to the set of real numbers. It assigns a real number to each outcome in the sample space.\n",
    "\n",
    "For example, consider the event of a coin toss that we have seen before. There are two outcomes in the sample space, a heads and a tails. We can ask the question, whats the probability of a heads or a tails? For an unbiased coin, these are, by symmettry, 1/2 each. The random variable here is the number of heads, and its probability is P(0)=1/2, and P(1)=1/2.\n",
    "\n",
    "Another random variable is the number of heads in two coin tosses. There,  P(0)=1/4, P(1)=1/2, P(2)=1/4.\n",
    "\n",
    "Random variables provide the link from events and sample spaces to data, and it is their **probability distribution** that we are interested in.\n",
    "\n",
    "A random variable is called **discrete** if it has a countable number of values ^[The technical definition of countable is that there is a 1-1 correspondence with the integers 1,2,3...]. The number of heads in 2 coin tosses is a discrete random variable.\n",
    "\n",
    "### Bernoulli Random Variables (in scipy.stats)\n",
    "\n",
    "The **Bernoulli Distribution** represents the distribution for coin flips. Let the random variable X represent such a coin flip, where X=1 is heads, and X=0 is tails. Let us further say that the probability of heads is p (p=0.5 is a fair coin). \n",
    "\n",
    "We then say:\n",
    "\n",
    "$$X \\sim Bernoulli(p),$$\n",
    "\n",
    "which is to be read as **X has distribution Bernoulli(p)**. The **probability distribution function (pdf)** or **probability mass function** associated with the Bernoulli distribution is\n",
    "\n",
    "\\begin{eqnarray}\n",
    "P(X = 1) &=& p \\\\\n",
    "P(X = 0) &=& 1 - p \n",
    "\\end{eqnarray}\n",
    "\n",
    "for p in the range 0 to 1. \n",
    "The **pdf**, or the probability that random variable $X=x$ may thus be written as \n",
    "\n",
    "$$P(X=x) = p^x(1-p)^{1-x}$$\n",
    "\n",
    "for x in the set {0,1}.\n",
    "\n",
    "The **mean**, or **expected value** of this distribution can be calculated analogously to the mean value of data by noting that X=1 happens with frequency p*N, and X=0 happens with frequency (1-p)*N, so we have\n",
    "\n",
    "$$\\frac{p \\times N \\times 1+(1-p) \\times N \\times 0}{N}$$\n",
    "\n",
    "and thus it is p. \n",
    "\n",
    "Let us engage in some term defining right now. $X$ is a random variable, and when we say $X=x$ we are asking \"what if the random variable X takes the value x. $P(X=x)$ asks: what is the probability that the random variable X takes the value x. Finally $p$ is a parameter of the Bernoulli distribution, and as we have seen, one of the things we want to do in data analysis is: having seen some data, what can we infer to be the values of p, so that we can make future predictions for X."
   ]
  },
  {
   "cell_type": "code",
   "execution_count": 77,
   "metadata": {},
   "outputs": [
    {
     "data": {
      "text/plain": [
       "array([0, 0, 0, 1, 0, 0, 1, 1, 0, 0, 0, 1, 0, 0, 0, 0, 1, 1, 0, 0])"
      ]
     },
     "execution_count": 77,
     "metadata": {},
     "output_type": "execute_result"
    }
   ],
   "source": [
    "from scipy.stats import bernoulli\n",
    "#bernoulli random variable\n",
    "brv=bernoulli(p=0.3)\n",
    "brv.rvs(size=20)"
   ]
  },
  {
   "cell_type": "code",
   "execution_count": 80,
   "metadata": {},
   "outputs": [
    {
     "data": {
      "text/plain": [
       "<scipy.stats._distn_infrastructure.rv_frozen at 0x1d51f4908c8>"
      ]
     },
     "execution_count": 80,
     "metadata": {},
     "output_type": "execute_result"
    }
   ],
   "source": [
    "brv"
   ]
  },
  {
   "cell_type": "code",
   "execution_count": null,
   "metadata": {},
   "outputs": [],
   "source": []
  },
  {
   "cell_type": "markdown",
   "metadata": {},
   "source": [
    "Note: **some of the code, and ALL of the visual style for the distribution plots below was shamelessly stolen from https://gist.github.com/mattions/6113437/ **."
   ]
  },
  {
   "cell_type": "code",
   "execution_count": 81,
   "metadata": {},
   "outputs": [
    {
     "data": {
      "image/png": "[encoded data removed]",
      "text/plain": [
       "<Figure size 864x576 with 4 Axes>"
      ]
     },
     "metadata": {},
     "output_type": "display_data"
    }
   ],
   "source": [
    "event_space=[0,1]\n",
    "plt.figure(figsize=(12,8))\n",
    "colors=sns.color_palette()\n",
    "for i, p in enumerate([0.1, 0.2, 0.5, 0.7]):\n",
    "    ax = plt.subplot(1, 4, i+1)\n",
    "    plt.bar(event_space, bernoulli.pmf(event_space, p), label=p, color=colors[i], alpha=0.5)\n",
    "    plt.plot(event_space, bernoulli.cdf(event_space, p), color=colors[i], alpha=0.5)\n",
    "\n",
    "    ax.xaxis.set_ticks(event_space)\n",
    "   \n",
    "    plt.ylim((0,1))\n",
    "    plt.legend(loc=0)\n",
    "    if i == 0:\n",
    "        plt.ylabel(\"PDF at $k$\")\n",
    "plt.tight_layout()"
   ]
  },
  {
   "cell_type": "markdown",
   "metadata": {},
   "source": [
    "Let us parse the intent of the above code a bit. We run 10,000 simulations. In each one of these simulations, we toss 51 biased coins, and assign the vote to obama is the output of `np.random.uniform` is less than the probablity of an obama win. \n",
    "\n",
    "### Uniform Distribution (in numpy)\n",
    "\n",
    "The first thing to pick up on here is that `np.random.uniform` gives you a random number between 0 and 1, uniformly. In other words, the number is equally likely to be between 0 and 0.1, 0.1 and 0.2, and so on. This is a very intuitive idea, but it is formalized by the notion of the **Uniform Distribution**.\n",
    "\n",
    "We then say:\n",
    "\n",
    "$$X \\sim Uniform([0,1),$$\n",
    "\n",
    "which is to be read as **X has distribution Uniform([0,1])**. The **probability distribution function (pdf)** associated with the Uniform distribution is\n",
    "\n",
    "\\begin{eqnarray}\n",
    "P(X = x) &=& 1 \\, for \\, x \\in [0,1] \\\\\n",
    "P(X = x) &=& 0 \\, for \\, x \\notin [0,1]\n",
    "\\end{eqnarray}\n",
    "\n",
    "What assigning the vote to Obama when the random variable **drawn** from the Uniform distribution is less than the Predictwise probability of Obama winning (which is a Bernoulli Parameter) does for us is this: if we have a large number of simulations and $p_{Obama}=0.7$ , then 70\\% of the time, the random numbes drawn will be below 0.7. And then, assigning those as Obama wins will hew to the frequentist notion of probability of the Obama win. But remember, of course, that in 30% of the simulations, Obama wont win, and this will induce fluctuations and a distribution on the total number of electoral college votes that Obama gets. And this is what we see in the histogram below. "
   ]
  },
  {
   "cell_type": "markdown",
   "metadata": {},
   "source": [
    "### Empirical Distribution"
   ]
  },
  {
   "cell_type": "markdown",
   "metadata": {},
   "source": [
    "This is an **empirical Probability Mass Function** or **Probability Density Function**.  The word **density** is strictly used when the random variable X takes on continuous values, as in the uniform distribution, rather than discrete values such as here, but we'll abuse the language and use the word probability distribution in both cases.\n",
    "\n",
    "Lets summarize: the way the density arose here that we did ran 10,000 tosses (for each state), and depending on the value, assigned the state to Obama or Romney, and then summed up the electoral votes over the states.\n",
    "\n",
    "There is a second, very useful question, we can ask of any such probability density: what is the probability that a random variable is less than some value. In other words: $P(X < x)$. This is *also* a probability distribution and is called the **Cumulative Distribution Function**, or CDF (sometimes just called the **distribution**, as opposed to the **density**). Its obtained by \"summing\" the probability density function for all $X$ less than $x$."
   ]
  },
  {
   "cell_type": "code",
   "execution_count": 82,
   "metadata": {},
   "outputs": [
    {
     "name": "stdout",
     "output_type": "stream",
     "text": [
      "Obama Win CDF at votes= 200  is  0.0\n",
      "Obama Win CDF at votes= 300  is  0.1494\n",
      "Obama Win CDF at votes= 320  is  0.4554\n",
      "Obama Win CDF at votes= 340  is  0.8478\n",
      "Obama Win CDF at votes= 360  is  0.9972\n",
      "Obama Win CDF at votes= 400  is  1.0\n",
      "Obama Win CDF at votes= 500  is  1.0\n"
     ]
    }
   ],
   "source": [
    "CDF = lambda x: np.float(np.sum(result < x))/result.shape[0]\n",
    "for votes in [200, 300, 320, 340, 360, 400, 500]:\n",
    "    print (\"Obama Win CDF at votes=\", votes, \" is \", CDF(votes))"
   ]
  },
  {
   "cell_type": "code",
   "execution_count": 83,
   "metadata": {},
   "outputs": [
    {
     "data": {
      "image/png": "[encoded data removed]",
      "text/plain": [
       "<Figure size 432x288 with 1 Axes>"
      ]
     },
     "metadata": {},
     "output_type": "display_data"
    }
   ],
   "source": [
    "votelist=np.arange(0, 540, 5)\n",
    "plt.plot(votelist, [CDF(v) for v in votelist], '.-');\n",
    "plt.xlim([200,400])\n",
    "plt.ylim([-0.1,1.1])\n",
    "plt.xlabel(\"votes for Obama\")\n",
    "plt.ylabel(\"probability of Obama win\");"
   ]
  },
  {
   "cell_type": "markdown",
   "metadata": {},
   "source": [
    "### Binomial Distribution (in scipy.stats)\n",
    "\n",
    "Let us consider a population of coinflips, n of them to be precise, $x_1,x_2,...,x_n$. The distribution of coin flips is the binomial distribution. By this we mean that each coin flip represents a bernoulli random variable (or comes from a bernoulli distribution) with  mean $p=0.5$.\n",
    "\n",
    "At this point, you might want to ask the question, what is the probability of obtaining $k$ heads in $n$ flips of the coin. We have seen this before, when we flipped 2 coins. What happens when when we flip 3?\n",
    "\n",
    "(This diagram is taken from the Feynman Lectures on Physics, volume 1. The chapter on probability is http://www.feynmanlectures.caltech.edu/I_06.html)\n",
    "![3 coin flips](3flips.png)\n",
    "\n",
    "We draw a possibilities diagram like we did with the 2 coin flips, and see that there are different probabilities associated with the events of 0, 1,2, and 3 heads with 1 and 2 heads being the most likely. \n",
    "The probability of each of these events is given by the **Binomial Distribution**, the distribution of the number of successes in a sequence of $n$ independent yes/no experiments, or Bernoulli trials, each of which yields success with probability $p$. The Binomial distribution is an extension of the Bernoulli when $n>1$ or the Bernoulli is the a special case of the Binomial when $n=1$.   \n",
    "\n",
    "$$P(X = k; n, p) = {n\\choose k}p^k(1-p)^{n-k} $$\n",
    "\n",
    "where\n",
    "\n",
    "$${n\\choose k}=\\frac{n!}{k!(n-k)!}$$\n",
    "\n",
    "The expected value $E[X]=np$ and the variance is $Var[X]=np(1-p)$\n",
    "\n",
    "How did we obtain this? The $p^k(1-p)^{n-k}$ comes simply from multiplying the probabilities for each bernoulli trial; there are $k$ 1's or yes's, and $n-k$ 0's or no's. The ${n\\choose k}$ comes from counting the number of ways in which each event happens: this corresponds to counting all the paths that give the same number of heads in the diagram above.\n",
    "\n",
    "We show the distribution below for 200 trials."
   ]
  },
  {
   "cell_type": "code",
   "execution_count": 84,
   "metadata": {},
   "outputs": [
    {
     "data": {
      "image/png": "[encoded data removed]",
      "text/plain": [
       "<Figure size 864x432 with 1 Axes>"
      ]
     },
     "metadata": {},
     "output_type": "display_data"
    }
   ],
   "source": [
    "from scipy.stats import binom\n",
    "plt.figure(figsize=(12,6))\n",
    "k = np.arange(0, 200)\n",
    "for p, color in zip([0.1, 0.3, 0.7, 0.7, 0.9], colors):\n",
    "    rv = binom(200, p)\n",
    "    plt.plot(k, rv.pmf(k), '.', lw=2, color=color, label=p)\n",
    "    plt.fill_between(k, rv.pmf(k), color=color, alpha=0.5)\n",
    "q=plt.legend()\n",
    "plt.title(\"Binomial distribution\")\n",
    "plt.tight_layout()\n",
    "q=plt.ylabel(\"PDF at $k$\")\n",
    "q=plt.xlabel(\"$k$\")"
   ]
  },
  {
   "cell_type": "markdown",
   "metadata": {},
   "source": [
    "### The various ways to get random numbers\n",
    "\n",
    "1. `np.random.choice` chooses items randomly from an array, with or without replacement\n",
    "2. `np.random.random` gives us uniform randoms on [0.0,1.0)\n",
    "3. `np.random.randint` gives us random integers in some range\n",
    "4. `np.random.randn` gives us random samples from a Normal distribution, which we talk about later.\n",
    "5. `scipy.stats.distrib` gives us stuff from a distribution. Here distrib could be `binom` for example, as above. `distrib.pdf` or `distrib.pmf` give us the density or mass function, while `cdf` gives us the cumulaive distribution function. Just using `distrib` as a function with its params creates a random variable generating object, from which random variables can be generated in the form `distrib(params).rvs(size)`."
   ]
  },
  {
   "cell_type": "code",
   "execution_count": null,
   "metadata": {
    "collapsed": true
   },
   "outputs": [],
   "source": []
  }
 ],
 "metadata": {
  "kernelspec": {
   "display_name": "Python 3",
   "language": "python",
   "name": "python3"
  },
  "language_info": {
   "codemirror_mode": {
    "name": "ipython",
    "version": 3
   },
   "file_extension": ".py",
   "mimetype": "text/x-python",
   "name": "python",
   "nbconvert_exporter": "python",
   "pygments_lexer": "ipython3",
   "version": "3.7.6"
  }
 },
 "nbformat": 4,
 "nbformat_minor": 1
}
